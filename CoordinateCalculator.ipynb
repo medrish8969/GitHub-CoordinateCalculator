{
 "cells": [
  {
   "cell_type": "markdown",
   "id": "1b31be22",
   "metadata": {},
   "source": [
    "# Geographic Coordinate Converter\n",
    "\n",
    "Converts a geographic coordinate in DDMMSS format to DD"
   ]
  },
  {
   "cell_type": "markdown",
   "id": "220c42ad",
   "metadata": {},
   "source": [
    "Step 1 - Use the Python input function to prompt a user to enter a geographic coordinate in DDMMSS format (e.g., 391120)."
   ]
  },
  {
   "cell_type": "markdown",
   "id": "5ef62634",
   "metadata": {},
   "source": [
    "#/ usr/bin/evn python\n",
    "# -*- coding: utf-8 -*-\n",
    "\n",
    "\"\"\"\n",
    "  Name:  CoordinateCalculator.ipynb\n",
    "  Description:  Converts geographic coordinates in DDMMSS format to DD\n",
    "  Created:  September 9, 2025\n",
    "  Author:  Maria Binte Edrish (medrish@ksu.edu)\n",
    "  Python Version:  3.11.11\n",
    "\"\"\""
   ]
  },
  {
   "cell_type": "code",
   "execution_count": null,
   "id": "16f5440b",
   "metadata": {},
   "outputs": [],
   "source": [
    "x = input(\"Please enter a coordinate in DDMMSS format:")"
   ]
  },
  {
   "cell_type": "markdown",
   "id": "50c7e956",
   "metadata": {},
   "source": [
    "Step 2 - Determine the data type of x and print its value before moving forward."
   ]
  },
  {
   "cell_type": "markdown",
   "id": "eb514e05",
   "metadata": {},
   "source": [
    "#Extract part: first 2 = degrees, next 2 = minutes, last 2 = seconds"
   ]
  },
  {
   "cell_type": "code",
   "execution_count": null,
   "id": "2a5030b7",
   "metadata": {},
   "outputs": [],
   "source": [
    "type(x)\n",
    "degrees = int(x[0:2])\n",
    "minutes = int(x[2:4])\n",
    "seconds = int(x[4:6])\n",
    "print(\"Degrees:\", degrees, \"Minutes:\", minutes, \"Seconds:\", seconds)"
   ]
  },
  {
   "cell_type": "markdown",
   "id": "b1f8bc62",
   "metadata": {},
   "source": [
    "#Convert to decimal degrees"
   ]
  },
  {
   "cell_type": "code",
   "execution_count": null,
   "id": "95feb1c1",
   "metadata": {},
   "outputs": [],
   "source": [
    "decimal_degrees = degrees + minutes/60 + seconds/3600"
   ]
  },
  {
   "cell_type": "markdown",
   "id": "4a63cf64",
   "metadata": {},
   "source": [
    "#Round to two decimal places"
   ]
  },
  {
   "cell_type": "code",
   "execution_count": null,
   "id": "81f9bca9",
   "metadata": {},
   "outputs": [],
   "source": [
    "decimal_degrees = round(decimal_degrees, 2)"
   ]
  },
  {
   "cell_type": "code",
   "execution_count": null,
   "id": "98e7e8fb",
   "metadata": {},
   "outputs": [],
   "source": [
    "print(\"Your final result is:\", decimal_degrees, \"degrees\")"
   ]
  }
 ],
 "metadata": {
  "kernelspec": {
   "display_name": "Python 3 (ipykernel)",
   "language": "python",
   "name": "python3"
  },
  "language_info": {
   "codemirror_mode": {
    "name": "ipython",
    "version": 3
   },
   "file_extension": ".py",
   "mimetype": "text/x-python",
   "name": "python",
   "nbconvert_exporter": "python",
   "pygments_lexer": "ipython3",
   "version": "3.9.16"
  }
 },
 "nbformat": 4,
 "nbformat_minor": 5
}
